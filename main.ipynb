{
 "cells": [
  {
   "cell_type": "code",
   "execution_count": 2,
   "metadata": {},
   "outputs": [],
   "source": [
    "# import required packages\n",
    "#import cv2 package\n",
    "import cv2\n",
    "#import numpy package\n",
    "import numpy as np\n",
    "#import pandas package\n",
    "import pandas as pd\n",
    "#import os package\n",
    "import os\n",
    "#import seaborn package\n",
    "import seaborn as sns\n",
    "#import tensorflow package API\n",
    "import tensorflow as tf\n",
    "#import keras package and its necessary modules for training purpose\n",
    "import keras\n",
    "from keras.models import Sequential\n",
    "from keras.layers import Conv2D, MaxPooling2D, Dense, Dropout, Flatten\n",
    "from tensorflow.keras.optimizers import Adam\n",
    "from keras.preprocessing.image import ImageDataGenerator\n",
    "from keras.models import model_from_json\n",
    "from tensorflow.keras.utils import plot_model\n",
    "# import matplotlib package for plotting purpose\n",
    "import matplotlib.pyplot as plt"
   ]
  },
  {
   "cell_type": "code",
   "execution_count": 3,
   "metadata": {},
   "outputs": [],
   "source": [
    "# Initialize image data generator with rescaling\n",
    "# Normalization\n",
    "train_data_gen = ImageDataGenerator(rescale=1./255)\n",
    "validation_data_gen = ImageDataGenerator(rescale=1./255)"
   ]
  },
  {
   "cell_type": "code",
   "execution_count": 4,
   "metadata": {},
   "outputs": [
    {
     "name": "stdout",
     "output_type": "stream",
     "text": [
      "       angry  disgust  fear  happy  neutral   sad  surprise\n",
      "train   3995      436  4097   7215     4965  4830      3171\n",
      "      angry  disgust  fear  happy  neutral   sad  surprise\n",
      "test    958      111  1024   1774     1233  1247       831\n"
     ]
    }
   ],
   "source": [
    "# initializing training and testing path\n",
    "train_dir = \"data/train/\"\n",
    "test_dir = \"data/test/\"\n",
    "\n",
    "# define function to read and count the number of images into the path for each class/emotion\n",
    "def count_exp(path, set_):\n",
    "    dict_ = {}\n",
    "    for expression in os.listdir(path):\n",
    "        dir_ = path + expression\n",
    "        dict_[expression] = len(os.listdir(dir_))\n",
    "    df = pd.DataFrame(dict_, index=[set_])\n",
    "    return df\n",
    "\n",
    "# execute the function for counting the images within training set\n",
    "train_count = count_exp(train_dir, 'train')\n",
    "# execute the function for counting the images within test set\n",
    "test_count = count_exp(test_dir, 'test')\n",
    "# print number of images within each class of training set\n",
    "print(train_count)\n",
    "# print number of images within each class of test set\n",
    "print(test_count)"
   ]
  },
  {
   "cell_type": "code",
   "execution_count": 5,
   "metadata": {},
   "outputs": [
    {
     "data": {
      "text/plain": [
       "<AxesSubplot:>"
      ]
     },
     "execution_count": 5,
     "metadata": {},
     "output_type": "execute_result"
    },
    {
     "data": {
      "image/png": "[encoded data removed]",
      "text/plain": [
       "<Figure size 432x288 with 1 Axes>"
      ]
     },
     "metadata": {
      "needs_background": "light"
     },
     "output_type": "display_data"
    },
    {
     "data": {
      "image/png": "[encoded data removed]",
      "text/plain": [
       "<Figure size 432x288 with 1 Axes>"
      ]
     },
     "metadata": {
      "needs_background": "light"
     },
     "output_type": "display_data"
    }
   ],
   "source": [
    "# plot a bar graph for all classes within training set\n",
    "train_count.transpose().plot(kind='bar')\n",
    "# plot a bar graph for all classes within test set\n",
    "test_count.transpose().plot(kind='bar')"
   ]
  },
  {
   "cell_type": "code",
   "execution_count": 6,
   "metadata": {},
   "outputs": [
    {
     "name": "stdout",
     "output_type": "stream",
     "text": [
      "Found 28709 images belonging to 7 classes.\n"
     ]
    }
   ],
   "source": [
    "# Process training data into bacthes of augmented data using the flow_from_directory function into keras API\n",
    "train_generator = train_data_gen.flow_from_directory(\n",
    "        'data/train',\n",
    "        target_size=(48, 48),\n",
    "        batch_size=64,\n",
    "        color_mode=\"grayscale\",\n",
    "        class_mode='categorical')"
   ]
  },
  {
   "cell_type": "code",
   "execution_count": 7,
   "metadata": {},
   "outputs": [
    {
     "name": "stdout",
     "output_type": "stream",
     "text": [
      "Found 7178 images belonging to 7 classes.\n"
     ]
    }
   ],
   "source": [
    "# Process test data into bacthes of augmented data using the flow_from_directory function into keras API\n",
    "validation_generator = validation_data_gen.flow_from_directory(\n",
    "        'data/test',\n",
    "        target_size=(48, 48),\n",
    "        batch_size=64,\n",
    "        color_mode=\"grayscale\",\n",
    "        class_mode='categorical')"
   ]
  },
  {
   "cell_type": "code",
   "execution_count": 8,
   "metadata": {},
   "outputs": [
    {
     "name": "stderr",
     "output_type": "stream",
     "text": [
      "C:\\Users\\vinay\\anaconda3\\lib\\site-packages\\keras\\optimizer_v2\\adam.py:105: UserWarning: The `lr` argument is deprecated, use `learning_rate` instead.\n",
      "  super(Adam, self).__init__(name, **kwargs)\n"
     ]
    }
   ],
   "source": [
    "# create model structure\n",
    "emotion_model = Sequential()\n",
    "# Block 1\n",
    "# convolutional layer 1\n",
    "emotion_model.add(Conv2D(32, kernel_size=(3, 3), activation='relu', input_shape=(48, 48, 1)))\n",
    "emotion_model.add(Conv2D(64, kernel_size=(3, 3), activation='relu'))\n",
    "emotion_model.add(MaxPooling2D(pool_size=(2, 2)))\n",
    "emotion_model.add(Dropout(0.25))\n",
    "\n",
    "# Block 2\n",
    "# convolutional layer 2\n",
    "emotion_model.add(Conv2D(128, kernel_size=(3, 3), activation='relu'))\n",
    "emotion_model.add(MaxPooling2D(pool_size=(2, 2)))\n",
    "emotion_model.add(Conv2D(128, kernel_size=(3, 3), activation='relu'))\n",
    "emotion_model.add(MaxPooling2D(pool_size=(2, 2)))\n",
    "emotion_model.add(Dropout(0.25))\n",
    "\n",
    "# Block 3\n",
    "# convolutional layer 3\n",
    "emotion_model.add(Flatten())\n",
    "emotion_model.add(Dense(1024, activation='relu'))\n",
    "emotion_model.add(Dropout(0.5))\n",
    "emotion_model.add(Dense(7, activation='softmax'))\n",
    "\n",
    "cv2.ocl.setUseOpenCL(False)\n",
    "\n",
    "emotion_model.compile(loss='categorical_crossentropy', optimizer=Adam(lr=0.0001, decay=1e-6), metrics=['accuracy'])\n"
   ]
  },
  {
   "cell_type": "code",
   "execution_count": 9,
   "metadata": {},
   "outputs": [
    {
     "name": "stdout",
     "output_type": "stream",
     "text": [
      "Model: \"sequential\"\n",
      "_________________________________________________________________\n",
      " Layer (type)                Output Shape              Param #   \n",
      "=================================================================\n",
      " conv2d (Conv2D)             (None, 46, 46, 32)        320       \n",
      "                                                                 \n",
      " conv2d_1 (Conv2D)           (None, 44, 44, 64)        18496     \n",
      "                                                                 \n",
      " max_pooling2d (MaxPooling2D  (None, 22, 22, 64)       0         \n",
      " )                                                               \n",
      "                                                                 \n",
      " dropout (Dropout)           (None, 22, 22, 64)        0         \n",
      "                                                                 \n",
      " conv2d_2 (Conv2D)           (None, 20, 20, 128)       73856     \n",
      "                                                                 \n",
      " max_pooling2d_1 (MaxPooling  (None, 10, 10, 128)      0         \n",
      " 2D)                                                             \n",
      "                                                                 \n",
      " conv2d_3 (Conv2D)           (None, 8, 8, 128)         147584    \n",
      "                                                                 \n",
      " max_pooling2d_2 (MaxPooling  (None, 4, 4, 128)        0         \n",
      " 2D)                                                             \n",
      "                                                                 \n",
      " dropout_1 (Dropout)         (None, 4, 4, 128)         0         \n",
      "                                                                 \n",
      " flatten (Flatten)           (None, 2048)              0         \n",
      "                                                                 \n",
      " dense (Dense)               (None, 1024)              2098176   \n",
      "                                                                 \n",
      " dropout_2 (Dropout)         (None, 1024)              0         \n",
      "                                                                 \n",
      " dense_1 (Dense)             (None, 7)                 7175      \n",
      "                                                                 \n",
      "=================================================================\n",
      "Total params: 2,345,607\n",
      "Trainable params: 2,345,607\n",
      "Non-trainable params: 0\n",
      "_________________________________________________________________\n"
     ]
    }
   ],
   "source": [
    "# Summarize the computed model\n",
    "emotion_model.summary()"
   ]
  },
  {
   "cell_type": "code",
   "execution_count": 10,
   "metadata": {},
   "outputs": [
    {
     "name": "stdout",
     "output_type": "stream",
     "text": [
      "Epoch 1/50\n",
      "448/448 [==============================] - 683s 2s/step - loss: 1.7893 - accuracy: 0.2679 - val_loss: 1.6876 - val_accuracy: 0.3419\n",
      "Epoch 2/50\n",
      "448/448 [==============================] - 303s 677ms/step - loss: 1.6150 - accuracy: 0.3741 - val_loss: 1.5316 - val_accuracy: 0.4093\n",
      "Epoch 3/50\n",
      "448/448 [==============================] - 150s 335ms/step - loss: 1.5226 - accuracy: 0.4163 - val_loss: 1.4719 - val_accuracy: 0.4372\n",
      "Epoch 4/50\n",
      "448/448 [==============================] - 153s 343ms/step - loss: 1.4567 - accuracy: 0.4420 - val_loss: 1.4083 - val_accuracy: 0.4601\n",
      "Epoch 5/50\n",
      "448/448 [==============================] - 150s 334ms/step - loss: 1.3993 - accuracy: 0.4699 - val_loss: 1.3530 - val_accuracy: 0.4863\n",
      "Epoch 6/50\n",
      "448/448 [==============================] - 150s 335ms/step - loss: 1.3555 - accuracy: 0.4878 - val_loss: 1.3154 - val_accuracy: 0.4997\n",
      "Epoch 7/50\n",
      "448/448 [==============================] - 150s 335ms/step - loss: 1.3086 - accuracy: 0.5046 - val_loss: 1.2876 - val_accuracy: 0.5124\n",
      "Epoch 8/50\n",
      "448/448 [==============================] - 162s 362ms/step - loss: 1.2699 - accuracy: 0.5184 - val_loss: 1.2536 - val_accuracy: 0.5211\n",
      "Epoch 9/50\n",
      "448/448 [==============================] - 152s 340ms/step - loss: 1.2306 - accuracy: 0.5366 - val_loss: 1.2339 - val_accuracy: 0.5296\n",
      "Epoch 10/50\n",
      "448/448 [==============================] - 151s 336ms/step - loss: 1.2014 - accuracy: 0.5492 - val_loss: 1.2110 - val_accuracy: 0.5347\n",
      "Epoch 11/50\n",
      "448/448 [==============================] - 150s 336ms/step - loss: 1.1728 - accuracy: 0.5613 - val_loss: 1.1851 - val_accuracy: 0.5465\n",
      "Epoch 12/50\n",
      "448/448 [==============================] - 155s 346ms/step - loss: 1.1438 - accuracy: 0.5732 - val_loss: 1.1634 - val_accuracy: 0.5566\n",
      "Epoch 13/50\n",
      "448/448 [==============================] - 153s 342ms/step - loss: 1.1152 - accuracy: 0.5844 - val_loss: 1.1478 - val_accuracy: 0.5619\n",
      "Epoch 14/50\n",
      "448/448 [==============================] - 154s 344ms/step - loss: 1.0894 - accuracy: 0.5957 - val_loss: 1.1526 - val_accuracy: 0.5628\n",
      "Epoch 15/50\n",
      "448/448 [==============================] - 155s 345ms/step - loss: 1.0647 - accuracy: 0.6053 - val_loss: 1.1519 - val_accuracy: 0.5573\n",
      "Epoch 16/50\n",
      "448/448 [==============================] - 158s 353ms/step - loss: 1.0407 - accuracy: 0.6133 - val_loss: 1.1148 - val_accuracy: 0.5748\n",
      "Epoch 17/50\n",
      "448/448 [==============================] - 155s 346ms/step - loss: 1.0205 - accuracy: 0.6189 - val_loss: 1.1132 - val_accuracy: 0.5788\n",
      "Epoch 18/50\n",
      "448/448 [==============================] - 154s 344ms/step - loss: 0.9973 - accuracy: 0.6296 - val_loss: 1.1070 - val_accuracy: 0.5824\n",
      "Epoch 19/50\n",
      "448/448 [==============================] - 156s 347ms/step - loss: 0.9700 - accuracy: 0.6404 - val_loss: 1.0994 - val_accuracy: 0.5862\n",
      "Epoch 20/50\n",
      "448/448 [==============================] - 165s 369ms/step - loss: 0.9449 - accuracy: 0.6523 - val_loss: 1.1042 - val_accuracy: 0.5891\n",
      "Epoch 21/50\n",
      "448/448 [==============================] - 162s 362ms/step - loss: 0.9265 - accuracy: 0.6598 - val_loss: 1.0991 - val_accuracy: 0.5940\n",
      "Epoch 22/50\n",
      "448/448 [==============================] - 166s 370ms/step - loss: 0.9000 - accuracy: 0.6650 - val_loss: 1.0903 - val_accuracy: 0.5992\n",
      "Epoch 23/50\n",
      "448/448 [==============================] - 165s 368ms/step - loss: 0.8715 - accuracy: 0.6775 - val_loss: 1.0763 - val_accuracy: 0.6038\n",
      "Epoch 24/50\n",
      "448/448 [==============================] - 165s 369ms/step - loss: 0.8459 - accuracy: 0.6893 - val_loss: 1.0834 - val_accuracy: 0.6018\n",
      "Epoch 25/50\n",
      "448/448 [==============================] - 166s 371ms/step - loss: 0.8238 - accuracy: 0.6979 - val_loss: 1.0709 - val_accuracy: 0.6070\n",
      "Epoch 26/50\n",
      "448/448 [==============================] - 169s 376ms/step - loss: 0.8015 - accuracy: 0.7047 - val_loss: 1.0768 - val_accuracy: 0.6087\n",
      "Epoch 27/50\n",
      "448/448 [==============================] - 173s 385ms/step - loss: 0.7859 - accuracy: 0.7130 - val_loss: 1.0825 - val_accuracy: 0.6060\n",
      "Epoch 28/50\n",
      "448/448 [==============================] - 173s 386ms/step - loss: 0.7551 - accuracy: 0.7240 - val_loss: 1.0769 - val_accuracy: 0.6124\n",
      "Epoch 29/50\n",
      "448/448 [==============================] - 167s 372ms/step - loss: 0.7333 - accuracy: 0.7346 - val_loss: 1.0731 - val_accuracy: 0.6148\n",
      "Epoch 30/50\n",
      "448/448 [==============================] - 172s 385ms/step - loss: 0.7100 - accuracy: 0.7415 - val_loss: 1.0671 - val_accuracy: 0.6137\n",
      "Epoch 31/50\n",
      "448/448 [==============================] - 169s 377ms/step - loss: 0.6893 - accuracy: 0.7475 - val_loss: 1.0865 - val_accuracy: 0.6147\n",
      "Epoch 32/50\n",
      "448/448 [==============================] - 158s 352ms/step - loss: 0.6622 - accuracy: 0.7598 - val_loss: 1.0813 - val_accuracy: 0.6186\n",
      "Epoch 33/50\n",
      "448/448 [==============================] - 155s 347ms/step - loss: 0.6429 - accuracy: 0.7666 - val_loss: 1.1039 - val_accuracy: 0.6158\n",
      "Epoch 34/50\n",
      "448/448 [==============================] - 160s 357ms/step - loss: 0.6211 - accuracy: 0.7755 - val_loss: 1.0896 - val_accuracy: 0.6180\n",
      "Epoch 35/50\n",
      "448/448 [==============================] - 156s 348ms/step - loss: 0.5971 - accuracy: 0.7815 - val_loss: 1.0947 - val_accuracy: 0.6183\n",
      "Epoch 36/50\n",
      "448/448 [==============================] - 172s 383ms/step - loss: 0.5810 - accuracy: 0.7900 - val_loss: 1.1062 - val_accuracy: 0.6208\n",
      "Epoch 37/50\n",
      "448/448 [==============================] - 179s 399ms/step - loss: 0.5560 - accuracy: 0.7972 - val_loss: 1.1101 - val_accuracy: 0.6176\n",
      "Epoch 38/50\n",
      "448/448 [==============================] - 172s 383ms/step - loss: 0.5418 - accuracy: 0.8028 - val_loss: 1.1241 - val_accuracy: 0.6191\n",
      "Epoch 39/50\n",
      "448/448 [==============================] - 175s 390ms/step - loss: 0.5191 - accuracy: 0.8146 - val_loss: 1.1204 - val_accuracy: 0.6219\n",
      "Epoch 40/50\n",
      "448/448 [==============================] - 199s 445ms/step - loss: 0.5045 - accuracy: 0.8167 - val_loss: 1.1383 - val_accuracy: 0.6212\n",
      "Epoch 41/50\n",
      "448/448 [==============================] - 188s 420ms/step - loss: 0.4960 - accuracy: 0.8203 - val_loss: 1.1279 - val_accuracy: 0.6196\n",
      "Epoch 42/50\n",
      "448/448 [==============================] - 173s 387ms/step - loss: 0.4686 - accuracy: 0.8315 - val_loss: 1.1443 - val_accuracy: 0.6190\n",
      "Epoch 43/50\n",
      "448/448 [==============================] - 179s 400ms/step - loss: 0.4579 - accuracy: 0.8346 - val_loss: 1.1465 - val_accuracy: 0.6223\n",
      "Epoch 44/50\n",
      "448/448 [==============================] - 181s 404ms/step - loss: 0.4363 - accuracy: 0.8406 - val_loss: 1.1595 - val_accuracy: 0.6253\n",
      "Epoch 45/50\n",
      "448/448 [==============================] - 160s 357ms/step - loss: 0.4294 - accuracy: 0.8459 - val_loss: 1.1695 - val_accuracy: 0.6170\n",
      "Epoch 46/50\n",
      "448/448 [==============================] - 160s 357ms/step - loss: 0.4140 - accuracy: 0.8504 - val_loss: 1.1753 - val_accuracy: 0.6223\n",
      "Epoch 47/50\n",
      "448/448 [==============================] - 181s 404ms/step - loss: 0.4005 - accuracy: 0.8562 - val_loss: 1.1709 - val_accuracy: 0.6226\n",
      "Epoch 48/50\n",
      "448/448 [==============================] - 166s 371ms/step - loss: 0.3933 - accuracy: 0.8596 - val_loss: 1.1915 - val_accuracy: 0.6232\n",
      "Epoch 49/50\n",
      "448/448 [==============================] - 173s 387ms/step - loss: 0.3814 - accuracy: 0.8633 - val_loss: 1.2398 - val_accuracy: 0.6243\n",
      "Epoch 50/50\n",
      "448/448 [==============================] - 181s 403ms/step - loss: 0.3683 - accuracy: 0.8679 - val_loss: 1.1838 - val_accuracy: 0.6208\n"
     ]
    }
   ],
   "source": [
    "# Train the neural network/model\n",
    "emotion_model_info = emotion_model.fit(\n",
    "        train_generator,\n",
    "        steps_per_epoch=28709 // 64,\n",
    "        epochs=50,\n",
    "        validation_data=validation_generator,\n",
    "        validation_steps=7178 // 64)"
   ]
  },
  {
   "cell_type": "code",
   "execution_count": 11,
   "metadata": {},
   "outputs": [
    {
     "name": "stdout",
     "output_type": "stream",
     "text": [
      "dict_keys(['loss', 'accuracy', 'val_loss', 'val_accuracy'])\n"
     ]
    },
    {
     "data": {
      "image/png": "[encoded data removed]",
      "text/plain": [
       "<Figure size 1008x360 with 2 Axes>"
      ]
     },
     "metadata": {
      "needs_background": "light"
     },
     "output_type": "display_data"
    },
    {
     "data": {
      "text/plain": [
       "<Figure size 432x288 with 0 Axes>"
      ]
     },
     "metadata": {},
     "output_type": "display_data"
    }
   ],
   "source": [
    "# Plot the accuracy, validation accuracy, loss and validation loss for training and test dataset\n",
    "print(emotion_model_info.history.keys())\n",
    "plt.figure(figsize=(14,5))\n",
    "plt.subplot(1,2,2)\n",
    "plt.plot(emotion_model_info.history['accuracy'])\n",
    "plt.plot(emotion_model_info.history['val_accuracy'])\n",
    "plt.title('Model Accuracy')\n",
    "plt.xlabel('Epochs')\n",
    "plt.ylabel('Accuracy')\n",
    "plt.legend(['train', 'test'], loc='upper left')\n",
    "\n",
    "plt.subplot(1,2,1)\n",
    "plt.plot(emotion_model_info.history['loss'])\n",
    "plt.plot(emotion_model_info.history['val_loss'])\n",
    "plt.title('model Loss')\n",
    "plt.xlabel('Epochs')\n",
    "plt.ylabel('Loss')\n",
    "plt.legend(['train', 'test'], loc='upper left')\n",
    "plt.show()\n",
    "plt.savefig(\"modelloss _modelaccuracy.png\")"
   ]
  },
  {
   "cell_type": "code",
   "execution_count": 12,
   "metadata": {},
   "outputs": [
    {
     "name": "stdout",
     "output_type": "stream",
     "text": [
      "449/449 [==============================] - 44s 99ms/step - loss: 0.1313 - accuracy: 0.9855\n",
      "113/113 [==============================] - 11s 97ms/step - loss: 1.1827 - accuracy: 0.6211\n",
      "final train accuracy = 98.55 , validation accuracy = 62.11\n"
     ]
    }
   ],
   "source": [
    "# Print accuracy for training set\n",
    "train_loss, train_accu = emotion_model.evaluate(train_generator)\n",
    "# Print accuracy for test set\n",
    "test_loss, test_accu = emotion_model.evaluate(validation_generator)\n",
    "print(\"final train accuracy = {:.2f} , validation accuracy = {:.2f}\".format(train_accu*100, test_accu*100))"
   ]
  },
  {
   "cell_type": "code",
   "execution_count": 13,
   "metadata": {},
   "outputs": [],
   "source": [
    "# write model structure in json file\n",
    "model_json = emotion_model.to_json()\n",
    "# use the write method to write our json weights\n",
    "# using with loop to write the file\n",
    "with open(\"emotion_model.json\", \"w\") as json_file:\n",
    "    # write the json file\n",
    "    json_file.write(model_json)"
   ]
  },
  {
   "cell_type": "code",
   "execution_count": 14,
   "metadata": {},
   "outputs": [],
   "source": [
    "# save trained model weight and the modek in .h5 file\n",
    "emotion_model.save_weights('emotion_model.h5')\n",
    "emotion_model.save(\"model.h5\")"
   ]
  },
  {
   "cell_type": "code",
   "execution_count": 15,
   "metadata": {},
   "outputs": [
    {
     "name": "stdout",
     "output_type": "stream",
     "text": [
      "Confusion Matrix\n",
      "[[ 531   62  607 1010  705  646  434]\n",
      " [  47    3   67  132   65   76   46]\n",
      " [ 627   54  577 1008  677  692  462]\n",
      " [1003  103 1004 1808 1296 1201  800]\n",
      " [ 678   72  691 1274  871  826  553]\n",
      " [ 661   86  687 1175  871  841  509]\n",
      " [ 436   53  447  818  556  489  372]]\n",
      "Classification Report\n",
      "              precision    recall  f1-score   support\n",
      "\n",
      "       angry       0.13      0.13      0.13      3995\n",
      "     disgust       0.01      0.01      0.01       436\n",
      "        fear       0.14      0.14      0.14      4097\n",
      "       happy       0.25      0.25      0.25      7215\n",
      "     neutral       0.17      0.18      0.17      4965\n",
      "         sad       0.18      0.17      0.18      4830\n",
      "    surprise       0.12      0.12      0.12      3171\n",
      "\n",
      "    accuracy                           0.17     28709\n",
      "   macro avg       0.14      0.14      0.14     28709\n",
      "weighted avg       0.17      0.17      0.17     28709\n",
      "\n"
     ]
    },
    {
     "data": {
      "image/png": "[encoded data removed]",
      "text/plain": [
       "<Figure size 576x576 with 2 Axes>"
      ]
     },
     "metadata": {
      "needs_background": "light"
     },
     "output_type": "display_data"
    }
   ],
   "source": [
    "# Confusion Matrix and Classification on training set\n",
    "y_pred = emotion_model.predict(train_generator)\n",
    "y_pred = np.argmax(y_pred, axis=1)\n",
    "class_labels = validation_generator.class_indices\n",
    "class_labels = {v:k for k,v in class_labels.items()}\n",
    "\n",
    "from sklearn.metrics import classification_report, confusion_matrix\n",
    "cm_train = confusion_matrix(train_generator.classes, y_pred)\n",
    "print('Confusion Matrix')\n",
    "print(cm_train)\n",
    "print('Classification Report')\n",
    "target_names = list(class_labels.values())\n",
    "print(classification_report(train_generator.classes, y_pred, target_names=target_names))\n",
    "\n",
    "plt.figure(figsize=(8,8))\n",
    "plt.imshow(cm_train, interpolation='nearest')\n",
    "plt.colorbar()\n",
    "tick_mark = np.arange(len(target_names))\n",
    "_ = plt.xticks(tick_mark, target_names, rotation=90)\n",
    "_ = plt.yticks(tick_mark, target_names)\n",
    "plt.savefig(\"confusion_matrix_train.png\")"
   ]
  },
  {
   "cell_type": "code",
   "execution_count": 16,
   "metadata": {},
   "outputs": [
    {
     "name": "stdout",
     "output_type": "stream",
     "text": [
      "Confusion Matrix\n",
      "[[146  13 120 250 162 150 117]\n",
      " [ 14   3  21  33  15  18   7]\n",
      " [138  20 147 220 203 153 143]\n",
      " [250  24 232 445 349 286 188]\n",
      " [163  13 166 336 226 195 134]\n",
      " [189  16 150 316 222 211 143]\n",
      " [120   5 125 188 153 138 102]]\n",
      "Classification Report\n",
      "              precision    recall  f1-score   support\n",
      "\n",
      "       angry       0.14      0.15      0.15       958\n",
      "     disgust       0.03      0.03      0.03       111\n",
      "        fear       0.15      0.14      0.15      1024\n",
      "       happy       0.25      0.25      0.25      1774\n",
      "     neutral       0.17      0.18      0.18      1233\n",
      "         sad       0.18      0.17      0.18      1247\n",
      "    surprise       0.12      0.12      0.12       831\n",
      "\n",
      "    accuracy                           0.18      7178\n",
      "   macro avg       0.15      0.15      0.15      7178\n",
      "weighted avg       0.18      0.18      0.18      7178\n",
      "\n"
     ]
    },
    {
     "data": {
      "image/png": "[encoded data removed]",
      "text/plain": [
       "<Figure size 576x576 with 2 Axes>"
      ]
     },
     "metadata": {
      "needs_background": "light"
     },
     "output_type": "display_data"
    }
   ],
   "source": [
    "# Confusion Matrix and Classification on test set\n",
    "y_pred = emotion_model.predict(validation_generator)\n",
    "y_pred = np.argmax(y_pred, axis=1)\n",
    "class_labels = validation_generator.class_indices\n",
    "class_labels = {v:k for k,v in class_labels.items()}\n",
    "\n",
    "#from sklearn.metrics import classification_report, confusion_matrix\n",
    "cm_test = confusion_matrix(validation_generator.classes, y_pred)\n",
    "print('Confusion Matrix')\n",
    "print(cm_test)\n",
    "print('Classification Report')\n",
    "target_names = list(class_labels.values())\n",
    "print(classification_report(validation_generator.classes, y_pred, target_names=target_names))\n",
    "\n",
    "plt.figure(figsize=(8,8))\n",
    "plt.imshow(cm_test, interpolation='nearest')\n",
    "plt.colorbar()\n",
    "tick_mark = np.arange(len(target_names))\n",
    "_ = plt.xticks(tick_mark, target_names, rotation=90)\n",
    "_ = plt.yticks(tick_mark, target_names)\n",
    "plt.savefig(\"confusion_matrix_test.png\")"
   ]
  }
 ],
 "metadata": {
  "interpreter": {
   "hash": "46365801e78b90e63d0d4bbcbdee808f6be0f043165976ff432301ce24c784be"
  },
  "kernelspec": {
   "display_name": "Python 3.8.5 64-bit ('base': conda)",
   "language": "python",
   "name": "python3"
  },
  "language_info": {
   "codemirror_mode": {
    "name": "ipython",
    "version": 3
   },
   "file_extension": ".py",
   "mimetype": "text/x-python",
   "name": "python",
   "nbconvert_exporter": "python",
   "pygments_lexer": "ipython3",
   "version": "3.8.5"
  },
  "orig_nbformat": 4
 },
 "nbformat": 4,
 "nbformat_minor": 2
}
